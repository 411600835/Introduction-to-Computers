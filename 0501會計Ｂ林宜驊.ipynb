{
  "nbformat": 4,
  "nbformat_minor": 0,
  "metadata": {
    "colab": {
      "provenance": [],
      "authorship_tag": "ABX9TyOPiw1s7411C3xeBdYMOLHO",
      "include_colab_link": true
    },
    "kernelspec": {
      "name": "python3",
      "display_name": "Python 3"
    },
    "language_info": {
      "name": "python"
    }
  },
  "cells": [
    {
      "cell_type": "markdown",
      "metadata": {
        "id": "view-in-github",
        "colab_type": "text"
      },
      "source": [
        "<a href=\"https://colab.research.google.com/github/411600835/Introduction-to-Computers/blob/main/0501%E6%9C%83%E8%A8%88%EF%BC%A2%E6%9E%97%E5%AE%9C%E9%A9%8A.ipynb\" target=\"_parent\"><img src=\"https://colab.research.google.com/assets/colab-badge.svg\" alt=\"Open In Colab\"/></a>"
      ]
    },
    {
      "cell_type": "code",
      "source": [
        "print(\"hello\")"
      ],
      "metadata": {
        "colab": {
          "base_uri": "https://localhost:8080/"
        },
        "id": "gBN7-Z-aL6NT",
        "outputId": "200494a5-7384-4d08-a4f8-c6eaa03f6382"
      },
      "execution_count": 2,
      "outputs": [
        {
          "output_type": "stream",
          "name": "stdout",
          "text": [
            "hello\n"
          ]
        }
      ]
    },
    {
      "cell_type": "code",
      "execution_count": 1,
      "metadata": {
        "colab": {
          "base_uri": "https://localhost:8080/"
        },
        "id": "uAUkAUcrLKnF",
        "outputId": "9e33d68b-0af5-4605-eb71-10569f83185d"
      },
      "outputs": [
        {
          "output_type": "stream",
          "name": "stdout",
          "text": [
            "15\n"
          ]
        }
      ],
      "source": [
        "tmp=0\n",
        "for i in range (1,6):\n",
        "      tmp +=i\n",
        "print(\"%d\" % tmp)"
      ]
    },
    {
      "cell_type": "code",
      "source": [
        "c = int (input(\"請輸入華氏溫度：\"))\n",
        "f =(c-32)*5/9\n",
        "print('%.1f' %f)"
      ],
      "metadata": {
        "colab": {
          "base_uri": "https://localhost:8080/"
        },
        "id": "0sszI4svMRB9",
        "outputId": "21e8f821-0a52-492e-f10b-30e4da4694b0"
      },
      "execution_count": 18,
      "outputs": [
        {
          "output_type": "stream",
          "name": "stdout",
          "text": [
            "請輸入華氏溫度：100\n",
            "37.8\n"
          ]
        }
      ]
    },
    {
      "cell_type": "code",
      "source": [
        "本金 = int( input( \"請輸入本金存款金額：\"))\n",
        "六年後存款 = 本金 * (1+ 0.02)**6\n",
        "print(\"六年後存款為：\",六年後存款)"
      ],
      "metadata": {
        "colab": {
          "base_uri": "https://localhost:8080/"
        },
        "id": "wUOK-O03Ym2g",
        "outputId": "b5d928e9-b092-41ff-e989-a0d4d3210fee"
      },
      "execution_count": 39,
      "outputs": [
        {
          "output_type": "stream",
          "name": "stdout",
          "text": [
            "請輸入本金存款金額：10000\n",
            "六年後存款為： 11261.62419264\n"
          ]
        }
      ]
    }
  ]
}