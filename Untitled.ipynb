{
  "nbformat": 4,
  "nbformat_minor": 0,
  "metadata": {
    "colab": {
      "provenance": [],
      "authorship_tag": "ABX9TyOy0H9qgEsS8XBqwYaiyf5Y",
      "include_colab_link": true
    },
    "kernelspec": {
      "name": "python3",
      "display_name": "Python 3"
    },
    "language_info": {
      "name": "python"
    }
  },
  "cells": [
    {
      "cell_type": "markdown",
      "metadata": {
        "id": "view-in-github",
        "colab_type": "text"
      },
      "source": [
        "<a href=\"https://colab.research.google.com/github/411600835/Introduction-to-Computers/blob/main/Untitled.ipynb\" target=\"_parent\"><img src=\"https://colab.research.google.com/assets/colab-badge.svg\" alt=\"Open In Colab\"/></a>"
      ]
    },
    {
      "cell_type": "code",
      "execution_count": 8,
      "metadata": {
        "colab": {
          "base_uri": "https://localhost:8080/"
        },
        "id": "lRGVCYGcWPR6",
        "outputId": "50029f98-de81-4e5d-d70d-b2d69f153ad7"
      },
      "outputs": [
        {
          "output_type": "stream",
          "name": "stdout",
          "text": [
            "rain:r\n",
            "請重新輸入\n"
          ]
        }
      ],
      "source": [
        "rain = input(\"rain:\")\n",
        "if (rain==\"Y\" or rain==\"y\"):\n",
        "  print(\"今天會下雨\")\n",
        "elif(rain==\"N\" or rain==\"n\"):\n",
        "  print(\"今天不會下雨\")\n",
        "else:\n",
        "  print(\"請重新輸入\")"
      ]
    },
    {
      "cell_type": "code",
      "source": [
        "t = float(input(\"請輸入溫度\"))\n",
        "if(t >= 37.5):\n",
        "  print(\"體溫過高\")\n",
        "elif(37.4>= t >= 37):\n",
        "  print(\"體溫略高!\")\n",
        "elif(36.9 >= t >= 34):\n",
        "  print(\"體溫正常!\")\n",
        "else:\n",
        "  print(\"體溫異常，請重新量測\")"
      ],
      "metadata": {
        "colab": {
          "base_uri": "https://localhost:8080/"
        },
        "id": "BbXGla3WYGx2",
        "outputId": "d07b866e-bc44-4b7d-a2e8-c1bbc1d446ea"
      },
      "execution_count": 10,
      "outputs": [
        {
          "output_type": "stream",
          "name": "stdout",
          "text": [
            "請輸入溫度35.5\n",
            "體溫正常!\n"
          ]
        }
      ]
    },
    {
      "cell_type": "code",
      "source": [
        "score = int(input(\"請輸入成績: \"))\n",
        "if score >= 90:\n",
        "  print('Grade is: A')\n",
        "elif score >= 80:\n",
        "  print('Grade is: B')\n",
        "elif score >= 70:\n",
        "  print('Grade is: C')\n",
        "elif score >= 60:\n",
        "  print('Grade is: D')\n",
        "else:\n",
        "  print('Grade is: E')"
      ],
      "metadata": {
        "colab": {
          "base_uri": "https://localhost:8080/"
        },
        "id": "KAGrTq1FaGVz",
        "outputId": "f8a7aa0e-9ef4-48c0-8bb8-18cf402c660f"
      },
      "execution_count": 12,
      "outputs": [
        {
          "output_type": "stream",
          "name": "stdout",
          "text": [
            "請輸入成績: 90\n",
            "Grade is: A\n"
          ]
        }
      ]
    },
    {
      "cell_type": "code",
      "source": [
        "month = int(input(\"請輸入月份: \"))\n",
        "if month == 3 or 4 or 5:\n",
        "  print(month , '月是春天')\n",
        "elif month == 6 or 7 or 8 :\n",
        "  print(month , '月是夏天')\n",
        "elif month == 9 or 10 or 11:\n",
        "  print(month , '月是秋天')\n",
        "elif month == 12 or 1 or 2 :\n",
        "  print(month , '月是冬天')\n",
        "else: \n",
        "  print (\"月份不在範圍內\")"
      ],
      "metadata": {
        "colab": {
          "base_uri": "https://localhost:8080/"
        },
        "id": "cupuOVXwa5-Y",
        "outputId": "86c2f0cb-cf9b-426d-b174-328dc5b617d4"
      },
      "execution_count": 17,
      "outputs": [
        {
          "output_type": "stream",
          "name": "stdout",
          "text": [
            "請輸入月份: 7\n",
            "7 月是春天\n"
          ]
        }
      ]
    },
    {
      "cell_type": "code",
      "source": [
        "money = int(input(\"請輸入今年收入淨額：\"))\n",
        "if money >= 2000000 :\n",
        "  print(\"税付金額: \", money*0.3)\n",
        "elif money >= 10000000 :\n",
        "  print(\"税付金額: \", money*0.21)\n",
        "elif money >= 600000 :\n",
        "  print(\"税付金額: \", money*0.13)\n",
        "elif money >=  300000 :\n",
        "  print(\"税付金額: \", money*0.06)\n",
        "else :\n",
        "  print(\"税付金額:\",money* 0)"
      ],
      "metadata": {
        "colab": {
          "base_uri": "https://localhost:8080/"
        },
        "id": "vZImw8aicoB6",
        "outputId": "5539f30c-ec93-4e54-ab79-8ad71bbe288a"
      },
      "execution_count": 19,
      "outputs": [
        {
          "output_type": "stream",
          "name": "stdout",
          "text": [
            "請輸入今年收入淨額：300000\n",
            "税付金額:  18000.0\n"
          ]
        }
      ]
    },
    {
      "cell_type": "code",
      "source": [],
      "metadata": {
        "id": "mQ6bHb1Cdx4R"
      },
      "execution_count": null,
      "outputs": []
    }
  ]
}