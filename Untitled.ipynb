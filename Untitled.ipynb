{
  "nbformat": 4,
  "nbformat_minor": 0,
  "metadata": {
    "colab": {
      "provenance": [],
      "authorship_tag": "ABX9TyM3ynFTI5b+J0SIxPERKym4",
      "include_colab_link": true
    },
    "kernelspec": {
      "name": "python3",
      "display_name": "Python 3"
    },
    "language_info": {
      "name": "python"
    }
  },
  "cells": [
    {
      "cell_type": "markdown",
      "metadata": {
        "id": "view-in-github",
        "colab_type": "text"
      },
      "source": [
        "<a href=\"https://colab.research.google.com/github/411600835/Introduction-to-Computers/blob/main/Untitled.ipynb\" target=\"_parent\"><img src=\"https://colab.research.google.com/assets/colab-badge.svg\" alt=\"Open In Colab\"/></a>"
      ]
    },
    {
      "cell_type": "code",
      "execution_count": 12,
      "metadata": {
        "colab": {
          "base_uri": "https://localhost:8080/"
        },
        "id": "lwoUhlgzha6s",
        "outputId": "dc7cf2d3-6522-45e2-ec52-76a7f43731f6"
      },
      "outputs": [
        {
          "output_type": "stream",
          "name": "stdout",
          "text": [
            "請輸入一個數字：0\n",
            "0 是偶數\n"
          ]
        }
      ],
      "source": [
        "num = int (input(\"請輸入一個數字：\"))\n",
        "if num%2 == 0:\n",
        "  print(num,\"是偶數\")\n",
        "elif num%2 == 1 :\n",
        "  print(num,\"是奇數\")\n",
        "else:\n",
        "  print(\"輸入錯誤\")"
      ]
    },
    {
      "cell_type": "code",
      "source": [
        "month = input(\"請輸入月份:\")\n",
        "if month == 3or 4 or 5:\n",
        "  print(month,\"是春天\")\n",
        "elif month == 6or 7or 8:\n",
        "  print(month,\"是夏天\")\n",
        "elif month == 9or 10 or 11:\n",
        "  print(month,\"是秋天\")\n",
        "elif month == 12or 1 or 2:\n",
        "  print(month,\"是冬天\")\n",
        "else:\n",
        "  print(\"輸入錯誤\")"
      ],
      "metadata": {
        "colab": {
          "base_uri": "https://localhost:8080/"
        },
        "id": "_AyZKJN6k7zu",
        "outputId": "fd352053-860b-420f-d99b-cfb8b46ee13c"
      },
      "execution_count": 17,
      "outputs": [
        {
          "output_type": "stream",
          "name": "stdout",
          "text": [
            "請輸入月份:7\n",
            "7 是春天\n"
          ]
        }
      ]
    }
  ]
}